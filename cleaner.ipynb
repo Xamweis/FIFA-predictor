{
 "cells": [
  {
   "cell_type": "code",
   "execution_count": 1,
   "metadata": {},
   "outputs": [],
   "source": [
    "import numpy as np\n",
    "import pandas as pd\n",
    "from sklearn import linear_model\n",
    "from sklearn.preprocessing import MinMaxScaler \n",
    "from sklearn.preprocessing import OneHotEncoder\n",
    "from sklearn.model_selection import train_test_split\n",
    "from sklearn.metrics import r2_score\n",
    "from sklearn.metrics import mean_squared_error\n",
    "from sklearn.metrics import mean_absolute_error\n",
    "import pickle\n",
    "\n",
    "import warnings\n",
    "warnings.filterwarnings('ignore')"
   ]
  },
  {
   "cell_type": "code",
   "execution_count": 2,
   "metadata": {},
   "outputs": [],
   "source": [
    "def minmax(df: pd.DataFrame):\n",
    "    minmax = MinMaxScaler().fit(df)\n",
    "    X_norm_m = minmax.transform(df)\n",
    "    X_norm_m = pd.DataFrame(X_norm_m, columns=df.columns)\n",
    "    return X_norm_m\n",
    "\n",
    "\n",
    "def onehot(df: pd.DataFrame):\n",
    "    encoder = OneHotEncoder(drop='first').fit(pd.DataFrame(df))\n",
    "    encoded = encoder.transform(pd.DataFrame(df)).toarray()\n",
    "    cols = encoder.get_feature_names_out(input_features=df.columns)\n",
    "    cols = list(map(normit, cols))  \n",
    "    onehot_encoded_cats = pd.DataFrame(encoded, columns=cols)\n",
    "    return onehot_encoded_cats\n",
    "\n",
    "\n",
    "def normit(x: str):\n",
    "    return x.replace(' ', '_').replace('/', '_').lower()\n",
    "\n",
    "\n",
    "def get_height(x: str):\n",
    "    feet, inch = x.split(\"'\")\n",
    "    inch = inch.rstrip('\"')\n",
    "    return int(feet)*30.48 + int(inch)*2.54\n",
    "\n",
    "\n",
    "def get_value(x):\n",
    "    x = str(x)\n",
    "    if x[-1] == 'M':\n",
    "        x = x[1:-1]\n",
    "        return 1000000 * float(x)\n",
    "    elif x[-1] == 'K':\n",
    "        x = x[1:-1]\n",
    "        return 1000 * float(x)\n",
    "    else:\n",
    "        x = x[1:]\n",
    "        return float(x)\n",
    "\n",
    "\n",
    "def get_stars(x):\n",
    "    return int(x[0])\n",
    "\n",
    "# commented lines are from initial model\n",
    "def clean_fifa_df(df: pd.DataFrame):\n",
    "    df.columns = list(map(normit, df.columns))\n",
    "    dropped = df[[\n",
    "        'age', 'growth', 'value', 'wage', 'reactions', 'power', 'shot_power', 'vision', \n",
    "        'composure', 'total_stats', 'base_stats', 'pas', 'dri', 'phy', \n",
    "        'ova'\n",
    "        ]]\n",
    "\n",
    "    dropped['composure'] = dropped['composure'].fillna(np.mean(dropped['composure'])).copy()\n",
    "    # dropped['a_w'] = dropped['a_w'].fillna('Medium').copy()\n",
    "    # dropped['d_w'] = dropped['d_w'].fillna('Medium').copy()\n",
    "    dropped = dropped.dropna(subset=['vision'])\n",
    "    # dropped['height'] = dropped['height'].apply(get_height)\n",
    "    # dropped['weight_lbs'] = dropped['weight'].str.rstrip(\"lbs\").astype(int)\n",
    "    # dropped = dropped.drop(['weight'], axis=1)\n",
    "    dropped['value'] = dropped['value'].apply(get_value)\n",
    "    dropped['wage'] = dropped['wage'].apply(get_value)\n",
    "    # dropped['release_clause'] = dropped['release_clause'].apply(get_value) \n",
    "    # dropped['w_f'] = dropped['w_f'].apply(get_stars)\n",
    "    # dropped['sm'] = dropped['sm'].apply(get_stars)\n",
    "    # dropped['ir'] = dropped['ir'].apply(get_stars)\n",
    "\n",
    "    return dropped\n"
   ]
  },
  {
   "cell_type": "code",
   "execution_count": 3,
   "metadata": {},
   "outputs": [],
   "source": [
    "def preprocess(df: pd.DataFrame):\n",
    "    cleaned = clean_fifa_df(df)\n",
    "    y = cleaned['ova']\n",
    "    cleaned = cleaned.drop(['ova'], axis=1)\n",
    "    nums = cleaned.select_dtypes(include=np.number)\n",
    "    cats = cleaned.select_dtypes(include=object)\n",
    "    nums = minmax(nums)\n",
    "    cats = onehot(cats)\n",
    "    X = pd.concat((nums, cats), axis=1)\n",
    "    return X, y"
   ]
  },
  {
   "cell_type": "code",
   "execution_count": 4,
   "metadata": {},
   "outputs": [],
   "source": [
    "validate = pd.read_csv('fifa21_validate.csv')\n",
    "train = pd.read_csv('fifa21_train.csv')\n",
    "validate.columns == train.columns\n",
    "\n",
    "pd.DataFrame(validate.isna().sum()).to_csv('v.csv')"
   ]
  },
  {
   "cell_type": "code",
   "execution_count": 5,
   "metadata": {},
   "outputs": [
    {
     "data": {
      "text/plain": [
       "array([ True,  True,  True,  True,  True,  True,  True,  True,  True,\n",
       "        True,  True,  True,  True,  True])"
      ]
     },
     "execution_count": 5,
     "metadata": {},
     "output_type": "execute_result"
    }
   ],
   "source": [
    "X, y = preprocess(train)\n",
    "X2, y2 = preprocess(validate)\n",
    "\n",
    "X.columns == X2.columns"
   ]
  },
  {
   "cell_type": "code",
   "execution_count": 6,
   "metadata": {},
   "outputs": [
    {
     "name": "stdout",
     "output_type": "stream",
     "text": [
      "0.8845798768312304\n",
      "0.8368299093286696\n"
     ]
    }
   ],
   "source": [
    "X_train, X_test, y_train, y_test = train_test_split(X, y, test_size=0.2, random_state=8)\n",
    "lm = linear_model.LinearRegression()\n",
    "lm.fit(X_train, y_train)\n",
    "\n",
    "preds_test = lm.predict(X_test)\n",
    "print(r2_score(y_test, preds_test))\n",
    "\n",
    "preds = lm.predict(X2)\n",
    "print(r2_score(y2, preds))"
   ]
  },
  {
   "cell_type": "code",
   "execution_count": 7,
   "metadata": {},
   "outputs": [],
   "source": [
    "### pickle test\n",
    "\n",
    "# X, y = preprocess(validate)\n",
    "\n",
    "# model = pickle.load(open('model.sav', 'rb'))\n",
    "\n",
    "# preds = model.predict(X)\n",
    "# print(r2_score(y, preds))"
   ]
  }
 ],
 "metadata": {
  "kernelspec": {
   "display_name": "Python 3.10.6 64-bit",
   "language": "python",
   "name": "python3"
  },
  "language_info": {
   "codemirror_mode": {
    "name": "ipython",
    "version": 3
   },
   "file_extension": ".py",
   "mimetype": "text/x-python",
   "name": "python",
   "nbconvert_exporter": "python",
   "pygments_lexer": "ipython3",
   "version": "3.10.6"
  },
  "orig_nbformat": 4,
  "vscode": {
   "interpreter": {
    "hash": "e7370f93d1d0cde622a1f8e1c04877d8463912d04d973331ad4851f04de6915a"
   }
  }
 },
 "nbformat": 4,
 "nbformat_minor": 2
}
