{
 "cells": [
  {
   "cell_type": "code",
   "execution_count": 51,
   "metadata": {},
   "outputs": [],
   "source": [
    "import numpy as np\n",
    "import pandas as pd\n",
    "from sklearn import linear_model\n",
    "from sklearn.preprocessing import MinMaxScaler \n",
    "from sklearn.preprocessing import OneHotEncoder\n",
    "from sklearn.model_selection import train_test_split\n",
    "from sklearn.metrics import r2_score\n",
    "from sklearn.metrics import mean_squared_error\n",
    "from sklearn.metrics import mean_absolute_error\n",
    "import pickle\n",
    "\n",
    "import warnings\n",
    "warnings.filterwarnings('ignore')"
   ]
  },
  {
   "cell_type": "code",
   "execution_count": 78,
   "metadata": {},
   "outputs": [],
   "source": [
    "def minmax(df: pd.DataFrame):\n",
    "    minmax = MinMaxScaler().fit(df)\n",
    "    X_norm_m = minmax.transform(df)\n",
    "    X_norm_m = pd.DataFrame(X_norm_m, columns=df.columns)\n",
    "    return X_norm_m\n",
    "\n",
    "\n",
    "def onehot(df: pd.DataFrame):\n",
    "    encoder = OneHotEncoder(drop='first').fit(pd.DataFrame(df))\n",
    "    encoded = encoder.transform(pd.DataFrame(df)).toarray()\n",
    "    cols = encoder.get_feature_names_out(input_features=df.columns)\n",
    "    cols = list(map(normit, cols))  \n",
    "    onehot_encoded_cats = pd.DataFrame(encoded, columns=cols)\n",
    "    return onehot_encoded_cats\n",
    "\n",
    "\n",
    "def normit(x: str):\n",
    "    return x.replace(' ', '_').replace('/', '_').lower()\n",
    "\n",
    "\n",
    "def get_height(x: str):\n",
    "    feet, inch = x.split(\"'\")\n",
    "    inch = inch.rstrip('\"')\n",
    "    return int(feet)*30.48 + int(inch)*2.54\n",
    "\n",
    "\n",
    "def get_value(x):\n",
    "    x = str(x)\n",
    "    if x[-1] == 'M':\n",
    "        x = x[1:-1]\n",
    "        return 1000000 * float(x)\n",
    "    elif x[-1] == 'K':\n",
    "        x = x[1:-1]\n",
    "        return 1000 * float(x)\n",
    "    else:\n",
    "        x = x[1:]\n",
    "        return float(x)\n",
    "\n",
    "\n",
    "def get_stars(x):\n",
    "    return int(x[0])\n",
    "\n",
    "# commented lines are from initial model\n",
    "def clean_fifa_df(df: pd.DataFrame):\n",
    "    # dropped = df[['Age', 'BP', 'Height', 'Weight', 'foot', 'Growth', 'Value', 'Wage', 'Release Clause', 'Attacking', 'Crossing', 'Finishing', 'Heading Accuracy', 'Short Passing', 'Volleys', 'Skill', 'Dribbling', 'Curve', 'FK Accuracy', 'Long Passing', 'Ball Control', 'Movement', 'Acceleration', 'Sprint Speed', 'Agility', 'Reactions', 'Balance', 'Power', 'Shot Power', 'Jumping', 'Stamina', 'Strength', 'Long Shots', 'Mentality', 'Aggression', 'Interceptions', 'Positioning', 'Vision', 'Penalties', 'Composure', 'Defending', 'Marking', 'Standing Tackle', 'Sliding Tackle', 'Goalkeeping', 'GK Diving', 'GK Handling', 'GK Kicking', 'GK Positioning', 'GK Reflexes', 'Total Stats', 'Base Stats', 'W/F', 'SM', 'A/W', 'D/W', 'IR', 'PAC', 'SHO', 'PAS', 'DRI', 'DEF', 'PHY', 'OVA']]\n",
    "    # dropped.columns = list(map(normit, dropped.columns))\n",
    "    \n",
    "    df.columns = list(map(normit, df.columns))\n",
    "    dropped = df[[\n",
    "        'age', 'growth', 'value', 'wage', 'reactions', 'power', 'shot_power', 'vision', \n",
    "        'composure', 'total_stats', 'base_stats', 'pas', 'dri', 'phy', \n",
    "        'ova'\n",
    "        'd_w'\n",
    "        ]]\n",
    "\n",
    "    dropped['composure'] = dropped['composure'].fillna(np.mean(dropped['composure'])).copy()\n",
    "    # dropped['a_w'] = dropped['a_w'].fillna('Medium').copy()\n",
    "    dropped['d_w'] = dropped['d_w'].fillna('Medium').copy()\n",
    "    dropped = dropped.dropna(subset=['vision'])\n",
    "    # dropped['height'] = dropped['height'].apply(get_height)\n",
    "    # dropped['weight_lbs'] = dropped['weight'].str.rstrip(\"lbs\").astype(int)\n",
    "    # dropped = dropped.drop(['weight'], axis=1)\n",
    "    dropped['value'] = dropped['value'].apply(get_value)\n",
    "    dropped['wage'] = dropped['wage'].apply(get_value)\n",
    "    # dropped['release_clause'] = dropped['release_clause'].apply(get_value) \n",
    "    # dropped['w_f'] = dropped['w_f'].apply(get_stars)\n",
    "    # dropped['sm'] = dropped['sm'].apply(get_stars)\n",
    "    # dropped['ir'] = dropped['ir'].apply(get_stars)\n",
    "\n",
    "    return dropped\n"
   ]
  },
  {
   "cell_type": "code",
   "execution_count": 79,
   "metadata": {},
   "outputs": [],
   "source": [
    "def preprocess(df: pd.DataFrame):\n",
    "    cleaned = clean_fifa_df(df)\n",
    "    y = cleaned['ova']\n",
    "    cleaned = cleaned.drop(['ova'], axis=1)\n",
    "    nums = cleaned.select_dtypes(include=np.number)\n",
    "    cats = cleaned.select_dtypes(include=object)\n",
    "    nums = minmax(nums)\n",
    "    cats = onehot(cats)\n",
    "    X = pd.concat((nums, cats), axis=1)\n",
    "    return X, y"
   ]
  },
  {
   "cell_type": "code",
   "execution_count": 80,
   "metadata": {},
   "outputs": [
    {
     "data": {
      "text/plain": [
       "array([ True,  True,  True,  True,  True,  True,  True,  True,  True,\n",
       "        True,  True,  True,  True,  True,  True,  True,  True,  True,\n",
       "        True,  True,  True,  True,  True,  True,  True,  True,  True,\n",
       "        True,  True,  True,  True,  True,  True,  True,  True,  True,\n",
       "        True,  True,  True,  True,  True,  True,  True,  True,  True,\n",
       "        True,  True,  True,  True,  True,  True,  True,  True,  True,\n",
       "        True,  True,  True,  True,  True,  True,  True,  True,  True,\n",
       "        True,  True,  True,  True,  True,  True,  True,  True,  True,\n",
       "        True,  True,  True,  True,  True,  True,  True,  True,  True,\n",
       "        True,  True,  True,  True,  True,  True,  True,  True,  True,\n",
       "        True,  True,  True,  True,  True,  True,  True,  True,  True,\n",
       "        True,  True])"
      ]
     },
     "execution_count": 80,
     "metadata": {},
     "output_type": "execute_result"
    }
   ],
   "source": [
    "validate = pd.read_csv('fifa21_validate.csv')\n",
    "train = pd.read_csv('fifa21_train.csv')\n",
    "validate.columns == train.columns"
   ]
  },
  {
   "cell_type": "code",
   "execution_count": 81,
   "metadata": {},
   "outputs": [
    {
     "ename": "KeyError",
     "evalue": "'d_w'",
     "output_type": "error",
     "traceback": [
      "\u001b[0;31m---------------------------------------------------------------------------\u001b[0m",
      "\u001b[0;31mKeyError\u001b[0m                                  Traceback (most recent call last)",
      "File \u001b[0;32m~/.local/lib/python3.10/site-packages/pandas/core/indexes/base.py:3803\u001b[0m, in \u001b[0;36mIndex.get_loc\u001b[0;34m(self, key, method, tolerance)\u001b[0m\n\u001b[1;32m   3802\u001b[0m \u001b[39mtry\u001b[39;00m:\n\u001b[0;32m-> 3803\u001b[0m     \u001b[39mreturn\u001b[39;00m \u001b[39mself\u001b[39;49m\u001b[39m.\u001b[39;49m_engine\u001b[39m.\u001b[39;49mget_loc(casted_key)\n\u001b[1;32m   3804\u001b[0m \u001b[39mexcept\u001b[39;00m \u001b[39mKeyError\u001b[39;00m \u001b[39mas\u001b[39;00m err:\n",
      "File \u001b[0;32m~/.local/lib/python3.10/site-packages/pandas/_libs/index.pyx:138\u001b[0m, in \u001b[0;36mpandas._libs.index.IndexEngine.get_loc\u001b[0;34m()\u001b[0m\n",
      "File \u001b[0;32m~/.local/lib/python3.10/site-packages/pandas/_libs/index.pyx:165\u001b[0m, in \u001b[0;36mpandas._libs.index.IndexEngine.get_loc\u001b[0;34m()\u001b[0m\n",
      "File \u001b[0;32mpandas/_libs/hashtable_class_helper.pxi:5745\u001b[0m, in \u001b[0;36mpandas._libs.hashtable.PyObjectHashTable.get_item\u001b[0;34m()\u001b[0m\n",
      "File \u001b[0;32mpandas/_libs/hashtable_class_helper.pxi:5753\u001b[0m, in \u001b[0;36mpandas._libs.hashtable.PyObjectHashTable.get_item\u001b[0;34m()\u001b[0m\n",
      "\u001b[0;31mKeyError\u001b[0m: 'd_w'",
      "\nThe above exception was the direct cause of the following exception:\n",
      "\u001b[0;31mKeyError\u001b[0m                                  Traceback (most recent call last)",
      "Cell \u001b[0;32mIn [81], line 1\u001b[0m\n\u001b[0;32m----> 1\u001b[0m X, y \u001b[39m=\u001b[39m preprocess(train)\n\u001b[1;32m      2\u001b[0m X2, y2 \u001b[39m=\u001b[39m preprocess(validate)\n\u001b[1;32m      4\u001b[0m X_train, X_test, y_train, y_test \u001b[39m=\u001b[39m train_test_split(X, y, test_size\u001b[39m=\u001b[39m\u001b[39m0.2\u001b[39m, random_state\u001b[39m=\u001b[39m\u001b[39m8\u001b[39m)\n",
      "Cell \u001b[0;32mIn [79], line 2\u001b[0m, in \u001b[0;36mpreprocess\u001b[0;34m(df)\u001b[0m\n\u001b[1;32m      1\u001b[0m \u001b[39mdef\u001b[39;00m \u001b[39mpreprocess\u001b[39m(df: pd\u001b[39m.\u001b[39mDataFrame):\n\u001b[0;32m----> 2\u001b[0m     cleaned \u001b[39m=\u001b[39m clean_fifa_df(df)\n\u001b[1;32m      3\u001b[0m     y \u001b[39m=\u001b[39m cleaned[\u001b[39m'\u001b[39m\u001b[39mova\u001b[39m\u001b[39m'\u001b[39m]\n\u001b[1;32m      4\u001b[0m     cleaned \u001b[39m=\u001b[39m cleaned\u001b[39m.\u001b[39mdrop([\u001b[39m'\u001b[39m\u001b[39mova\u001b[39m\u001b[39m'\u001b[39m], axis\u001b[39m=\u001b[39m\u001b[39m1\u001b[39m)\n",
      "Cell \u001b[0;32mIn [78], line 57\u001b[0m, in \u001b[0;36mclean_fifa_df\u001b[0;34m(df)\u001b[0m\n\u001b[1;32m     55\u001b[0m dropped[\u001b[39m'\u001b[39m\u001b[39mcomposure\u001b[39m\u001b[39m'\u001b[39m] \u001b[39m=\u001b[39m dropped[\u001b[39m'\u001b[39m\u001b[39mcomposure\u001b[39m\u001b[39m'\u001b[39m]\u001b[39m.\u001b[39mfillna(np\u001b[39m.\u001b[39mmean(dropped[\u001b[39m'\u001b[39m\u001b[39mcomposure\u001b[39m\u001b[39m'\u001b[39m]))\u001b[39m.\u001b[39mcopy()\n\u001b[1;32m     56\u001b[0m \u001b[39m# dropped['a_w'] = dropped['a_w'].fillna('Medium').copy()\u001b[39;00m\n\u001b[0;32m---> 57\u001b[0m dropped[\u001b[39m'\u001b[39m\u001b[39md_w\u001b[39m\u001b[39m'\u001b[39m] \u001b[39m=\u001b[39m dropped[\u001b[39m'\u001b[39;49m\u001b[39md_w\u001b[39;49m\u001b[39m'\u001b[39;49m]\u001b[39m.\u001b[39mfillna(\u001b[39m'\u001b[39m\u001b[39mMedium\u001b[39m\u001b[39m'\u001b[39m)\u001b[39m.\u001b[39mcopy()\n\u001b[1;32m     58\u001b[0m dropped \u001b[39m=\u001b[39m dropped\u001b[39m.\u001b[39mdropna(subset\u001b[39m=\u001b[39m[\u001b[39m'\u001b[39m\u001b[39mvision\u001b[39m\u001b[39m'\u001b[39m])\n\u001b[1;32m     59\u001b[0m \u001b[39m# dropped['height'] = dropped['height'].apply(get_height)\u001b[39;00m\n\u001b[1;32m     60\u001b[0m \u001b[39m# dropped['weight_lbs'] = dropped['weight'].str.rstrip(\"lbs\").astype(int)\u001b[39;00m\n\u001b[1;32m     61\u001b[0m \u001b[39m# dropped = dropped.drop(['weight'], axis=1)\u001b[39;00m\n",
      "File \u001b[0;32m~/.local/lib/python3.10/site-packages/pandas/core/frame.py:3804\u001b[0m, in \u001b[0;36mDataFrame.__getitem__\u001b[0;34m(self, key)\u001b[0m\n\u001b[1;32m   3802\u001b[0m \u001b[39mif\u001b[39;00m \u001b[39mself\u001b[39m\u001b[39m.\u001b[39mcolumns\u001b[39m.\u001b[39mnlevels \u001b[39m>\u001b[39m \u001b[39m1\u001b[39m:\n\u001b[1;32m   3803\u001b[0m     \u001b[39mreturn\u001b[39;00m \u001b[39mself\u001b[39m\u001b[39m.\u001b[39m_getitem_multilevel(key)\n\u001b[0;32m-> 3804\u001b[0m indexer \u001b[39m=\u001b[39m \u001b[39mself\u001b[39;49m\u001b[39m.\u001b[39;49mcolumns\u001b[39m.\u001b[39;49mget_loc(key)\n\u001b[1;32m   3805\u001b[0m \u001b[39mif\u001b[39;00m is_integer(indexer):\n\u001b[1;32m   3806\u001b[0m     indexer \u001b[39m=\u001b[39m [indexer]\n",
      "File \u001b[0;32m~/.local/lib/python3.10/site-packages/pandas/core/indexes/base.py:3805\u001b[0m, in \u001b[0;36mIndex.get_loc\u001b[0;34m(self, key, method, tolerance)\u001b[0m\n\u001b[1;32m   3803\u001b[0m     \u001b[39mreturn\u001b[39;00m \u001b[39mself\u001b[39m\u001b[39m.\u001b[39m_engine\u001b[39m.\u001b[39mget_loc(casted_key)\n\u001b[1;32m   3804\u001b[0m \u001b[39mexcept\u001b[39;00m \u001b[39mKeyError\u001b[39;00m \u001b[39mas\u001b[39;00m err:\n\u001b[0;32m-> 3805\u001b[0m     \u001b[39mraise\u001b[39;00m \u001b[39mKeyError\u001b[39;00m(key) \u001b[39mfrom\u001b[39;00m \u001b[39merr\u001b[39;00m\n\u001b[1;32m   3806\u001b[0m \u001b[39mexcept\u001b[39;00m \u001b[39mTypeError\u001b[39;00m:\n\u001b[1;32m   3807\u001b[0m     \u001b[39m# If we have a listlike key, _check_indexing_error will raise\u001b[39;00m\n\u001b[1;32m   3808\u001b[0m     \u001b[39m#  InvalidIndexError. Otherwise we fall through and re-raise\u001b[39;00m\n\u001b[1;32m   3809\u001b[0m     \u001b[39m#  the TypeError.\u001b[39;00m\n\u001b[1;32m   3810\u001b[0m     \u001b[39mself\u001b[39m\u001b[39m.\u001b[39m_check_indexing_error(key)\n",
      "\u001b[0;31mKeyError\u001b[0m: 'd_w'"
     ]
    }
   ],
   "source": [
    "X, y = preprocess(train)\n",
    "X2, y2 = preprocess(validate)\n",
    "\n",
    "X_train, X_test, y_train, y_test = train_test_split(X, y, test_size=0.2, random_state=8)\n",
    "lm = linear_model.LinearRegression()\n",
    "lm.fit(X_train, y_train)\n",
    "\n",
    "preds_test = lm.predict(X_test)\n",
    "print(r2_score(y_test, preds_test))\n",
    "\n",
    "preds = lm.predict(X2)\n",
    "print(r2_score(y2, preds))"
   ]
  },
  {
   "cell_type": "code",
   "execution_count": null,
   "metadata": {},
   "outputs": [],
   "source": [
    "### pickle test\n",
    "\n",
    "# X, y = preprocess(validate)\n",
    "\n",
    "# model = pickle.load(open('model.sav', 'rb'))\n",
    "\n",
    "# preds = model.predict(X)\n",
    "# print(r2_score(y, preds))"
   ]
  }
 ],
 "metadata": {
  "kernelspec": {
   "display_name": "Python 3.10.6 64-bit",
   "language": "python",
   "name": "python3"
  },
  "language_info": {
   "codemirror_mode": {
    "name": "ipython",
    "version": 3
   },
   "file_extension": ".py",
   "mimetype": "text/x-python",
   "name": "python",
   "nbconvert_exporter": "python",
   "pygments_lexer": "ipython3",
   "version": "3.10.6"
  },
  "orig_nbformat": 4,
  "vscode": {
   "interpreter": {
    "hash": "e7370f93d1d0cde622a1f8e1c04877d8463912d04d973331ad4851f04de6915a"
   }
  }
 },
 "nbformat": 4,
 "nbformat_minor": 2
}
